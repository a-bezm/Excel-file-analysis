{
  "cells": [
    {
      "cell_type": "markdown",
      "id": "caef5542",
      "metadata": {
        "id": "caef5542"
      },

    },
    {
      "cell_type": "markdown",
      "id": "e2dffd82",
      "metadata": {
        "id": "e2dffd82"
      },
      "source": [
        "##  Техническое задание"
      ]
    },
    {
      "cell_type": "markdown",
      "id": "8957a14a",
      "metadata": {
        "id": "8957a14a"
      },
      "source": [
        "Имеющиеся поля:\n",
        "- client_id - ID клиента;\n",
        "- sum – сумма денежных средств;\n",
        "- status – статус оплаты;\n",
        "- sale – менеджер, заключивший сделку;\n",
        "- new/current – статус сделки;\n",
        "- document – наличие оригинала подписанного договора с клиентом;\n",
        "- receiving_date – дата получения оригинала договора;\n",
        "- добавленное мной для вычислений в таблицу на питоне (без изменений таблицы Excel, см решение) поле trade_data - дата начала месяца, в котором началась работа над сделкой."
      ]
    },
    {
      "cell_type": "markdown",
      "id": "3187f5eb",
      "metadata": {
        "id": "3187f5eb"
      },
      "source": [
        "### Вопросы"
      ]
    },
    {
      "cell_type": "markdown",
      "id": "13bcd46c",
      "metadata": {
        "id": "13bcd46c"
      },
      "source": [
        "<b>Вычислите общую выручку за июль 2021 по тем сделкам, приход денежных\n",
        "средств которых не просрочен.</b>"
      ]
    },
    {
      "cell_type": "code",
      "execution_count": null,
      "id": "a6ddff95",
      "metadata": {
        "colab": {
          "base_uri": "https://localhost:8080/"
        },
        "id": "a6ddff95",
        "outputId": "4eaab009-f0d8-4389-d28d-89a041b14d0f"
      },
      "outputs": [
        {
          "output_type": "stream",
          "name": "stdout",
          "text": [
            "/bin/bash: line 1: pip install pandas: command not found\n",
            "Общая выручка за июль 2021:  757830.7399999996\n"
          ]
        }
      ],
      "source": [
        "!pip install pandas\n",
        "import pandas as pd #для работы с данными используем библиотеку\n",
        "\n",
        "url='https://drive.google.com/uc?export=download&id=1t2Bl9Jc0JCWOaeFgADJ2bVdoLdjDTWno'\n",
        "df=pd.read_excel(url) #загрузим датасет по ссылке из тз\n",
        "df['receiving_date']=pd.to_datetime(df['receiving_date'],errors='coerce') #изменим тип данных\n",
        "\n",
        "july_data=df[(df['receiving_date'].dt.year==2021)&(df['receiving_date'].dt.month==7)&(df['status']!='ПРОСРОЧЕНО')] #зададим параметры отбора в новый временный столбец по условию\n",
        "\n",
        "total_revenue=july_data['sum'].sum()\n",
        "\n",
        "print(\"Общая выручка за июль 2021: \",total_revenue)"
      ]
    },
    {
      "cell_type": "markdown",
      "id": "c76a2a27",
      "metadata": {
        "id": "c76a2a27"
      },
      "source": [
        "<b>Кто из менеджеров привлек для компании больше всего денежных средств в сентябре 2021?</b>"
      ]
    },
    {
      "cell_type": "code",
      "execution_count": null,
      "id": "7c0a1238",
      "metadata": {
        "colab": {
          "base_uri": "https://localhost:8080/"
        },
        "id": "7c0a1238",
        "outputId": "903a0ec0-cbab-41cc-e45e-6fb4c1acf6ff"
      },
      "outputs": [
        {
          "output_type": "stream",
          "name": "stdout",
          "text": [
            "Менеджер, привлекший для компании больше всего денежных средств в сентябре 2021:  Петрова\n"
          ]
        }
      ],
      "source": [
        "df['receiving_date']=pd.to_datetime(df['receiving_date'],errors='coerce')\n",
        "\n",
        "september_data=df[(df['receiving_date'].dt.year==2021)&(df['receiving_date'].dt.month==9)]#в принципе можно не указывать первый критерий, где год\n",
        "\n",
        "manager_amounts=september_data.groupby('sale')['sum'].sum()#группируем\n",
        "\n",
        "top_manager=manager_amounts.idxmax()#удобно использовать\n",
        "\n",
        "print(\"Менеджер, привлекший для компании больше всего денежных средств в сентябре 2021: \",top_manager)"
      ]
    },
    {
      "cell_type": "markdown",
      "id": "f66e50dc",
      "metadata": {
        "id": "f66e50dc"
      },
      "source": [
        "<b>Какой тип сделок (новая/текущая) был преобладающим в октябре 2021?</b>"
      ]
    },
    {
      "cell_type": "code",
      "execution_count": null,
      "id": "749996eb",
      "metadata": {
        "colab": {
          "base_uri": "https://localhost:8080/"
        },
        "id": "749996eb",
        "outputId": "a9da58f0-afb7-48ad-cb32-41580e8a7623"
      },
      "outputs": [
        {
          "output_type": "stream",
          "name": "stdout",
          "text": [
            "Преобладающий тип сделок в октябре 2021:  текущая\n"
          ]
        }
      ],
      "source": [
        "october_data=df[(df['receiving_date'].dt.month==10)] #можно было указать год, как я писала в комментарии к вопросу выше, тут делаю без него\n",
        "\n",
        "deal_counts=october_data['new/current'].value_counts()#ограничили датасет октябрем и посчитали сколько раз встречается каждое\n",
        "\n",
        "dominant_type=deal_counts.idxmax()\n",
        "\n",
        "print(\"Преобладающий тип сделок в октябре 2021: \",dominant_type)"
      ]
    },
    {
      "cell_type": "markdown",
      "source": [
        "примечание к решению: если необходимо, можно легко заменить столбец receiving_date на trade_date, о котором я пишу ниже, но сейчас я поняла условие имненно так."
      ],
      "metadata": {
        "id": "oqyhYwUsLzUr"
      },
      "id": "oqyhYwUsLzUr"
    },
    {
      "cell_type": "markdown",
      "id": "fba7e6fa",
      "metadata": {
        "id": "fba7e6fa"
      },
      "source": [
        "<b>Сколько оригиналов договора по майским сделкам было получено в июне 2021?</b>"
      ]
    },
    {
      "cell_type": "markdown",
      "id": "0e2f2ec2",
      "metadata": {
        "id": "0e2f2ec2"
      },
      "source": [
        "важное примечение к решению: для решения этого задания я создала еще один столбец trade_date, делающий из надписей в экселе вроде \"Июль 2021\" в столбце статуса для каждой строки указание начала месяца, в котором началась работа по сделке (соответсвенно у строк после записи \"Июль 2021\" стоит \"2021-07-01\").\n",
        "Эти измнения я выведу в отдельном окне, чтобы сразу их было видно, если они были не нужны и я ошиблась :)"
      ]
    },
    {
      "cell_type": "code",
      "execution_count": null,
      "id": "1a715077",
      "metadata": {
        "colab": {
          "base_uri": "https://localhost:8080/",
          "height": 424
        },
        "id": "1a715077",
        "outputId": "36a4039f-3245-4913-81c9-5d283a9149e2"
      },
      "outputs": [
        {
          "output_type": "execute_result",
          "data": {
            "text/plain": [
              "     client_id      sum      status        sale new/current  Unnamed: 5  \\\n",
              "0          NaN      NaN    Май 2021         NaN         NaN         NaN   \n",
              "1          6.0  11693.7  ВНУТРЕННИЙ           -           -         NaN   \n",
              "2         14.0   5452.7    ОПЛАЧЕНО     Петрова       новая         NaN   \n",
              "3         15.0  13991.7    ОПЛАЧЕНО      Иванов     текущая         NaN   \n",
              "4         16.0    719.7    ОПЛАЧЕНО      Иванов     текущая         NaN   \n",
              "..         ...      ...         ...         ...         ...         ...   \n",
              "725      285.0   4328.7    ОПЛАЧЕНО    Васильев     текущая         NaN   \n",
              "726      360.0   3096.2    ОПЛАЧЕНО    Васильев       новая         NaN   \n",
              "727      360.0   3096.2  ПРОСРОЧЕНО    Васильев       новая         NaN   \n",
              "728      373.0   4403.7    ОПЛАЧЕНО    Михайлов       новая         NaN   \n",
              "729      286.0   3978.7    ОПЛАЧЕНО  Филимонова     текущая         NaN   \n",
              "\n",
              "     document receiving_date  trade_date  \n",
              "0         NaN            NaT        None  \n",
              "1           -            NaT  2021-05-01  \n",
              "2    оригинал     2021-07-26  2021-05-01  \n",
              "3    оригинал     2021-06-08  2021-05-01  \n",
              "4    оригинал     2021-06-08  2021-05-01  \n",
              "..        ...            ...         ...  \n",
              "725  оригинал     2021-11-15  2021-10-01  \n",
              "726       НЕТ            NaT  2021-10-01  \n",
              "727       НЕТ            NaT  2021-10-01  \n",
              "728  оригинал     2021-11-08  2021-10-01  \n",
              "729  оригинал     2021-11-15  2021-10-01  \n",
              "\n",
              "[730 rows x 9 columns]"
            ],
            "text/html": [
              "\n",
              "  <div id=\"df-c0dc9686-7896-49b9-9abc-63b7922db672\" class=\"colab-df-container\">\n",
              "    <div>\n",
              "<style scoped>\n",
              "    .dataframe tbody tr th:only-of-type {\n",
              "        vertical-align: middle;\n",
              "    }\n",
              "\n",
              "    .dataframe tbody tr th {\n",
              "        vertical-align: top;\n",
              "    }\n",
              "\n",
              "    .dataframe thead th {\n",
              "        text-align: right;\n",
              "    }\n",
              "</style>\n",
              "<table border=\"1\" class=\"dataframe\">\n",
              "  <thead>\n",
              "    <tr style=\"text-align: right;\">\n",
              "      <th></th>\n",
              "      <th>client_id</th>\n",
              "      <th>sum</th>\n",
              "      <th>status</th>\n",
              "      <th>sale</th>\n",
              "      <th>new/current</th>\n",
              "      <th>Unnamed: 5</th>\n",
              "      <th>document</th>\n",
              "      <th>receiving_date</th>\n",
              "      <th>trade_date</th>\n",
              "    </tr>\n",
              "  </thead>\n",
              "  <tbody>\n",
              "    <tr>\n",
              "      <th>0</th>\n",
              "      <td>NaN</td>\n",
              "      <td>NaN</td>\n",
              "      <td>Май 2021</td>\n",
              "      <td>NaN</td>\n",
              "      <td>NaN</td>\n",
              "      <td>NaN</td>\n",
              "      <td>NaN</td>\n",
              "      <td>NaT</td>\n",
              "      <td>None</td>\n",
              "    </tr>\n",
              "    <tr>\n",
              "      <th>1</th>\n",
              "      <td>6.0</td>\n",
              "      <td>11693.7</td>\n",
              "      <td>ВНУТРЕННИЙ</td>\n",
              "      <td>-</td>\n",
              "      <td>-</td>\n",
              "      <td>NaN</td>\n",
              "      <td>-</td>\n",
              "      <td>NaT</td>\n",
              "      <td>2021-05-01</td>\n",
              "    </tr>\n",
              "    <tr>\n",
              "      <th>2</th>\n",
              "      <td>14.0</td>\n",
              "      <td>5452.7</td>\n",
              "      <td>ОПЛАЧЕНО</td>\n",
              "      <td>Петрова</td>\n",
              "      <td>новая</td>\n",
              "      <td>NaN</td>\n",
              "      <td>оригинал</td>\n",
              "      <td>2021-07-26</td>\n",
              "      <td>2021-05-01</td>\n",
              "    </tr>\n",
              "    <tr>\n",
              "      <th>3</th>\n",
              "      <td>15.0</td>\n",
              "      <td>13991.7</td>\n",
              "      <td>ОПЛАЧЕНО</td>\n",
              "      <td>Иванов</td>\n",
              "      <td>текущая</td>\n",
              "      <td>NaN</td>\n",
              "      <td>оригинал</td>\n",
              "      <td>2021-06-08</td>\n",
              "      <td>2021-05-01</td>\n",
              "    </tr>\n",
              "    <tr>\n",
              "      <th>4</th>\n",
              "      <td>16.0</td>\n",
              "      <td>719.7</td>\n",
              "      <td>ОПЛАЧЕНО</td>\n",
              "      <td>Иванов</td>\n",
              "      <td>текущая</td>\n",
              "      <td>NaN</td>\n",
              "      <td>оригинал</td>\n",
              "      <td>2021-06-08</td>\n",
              "      <td>2021-05-01</td>\n",
              "    </tr>\n",
              "    <tr>\n",
              "      <th>...</th>\n",
              "      <td>...</td>\n",
              "      <td>...</td>\n",
              "      <td>...</td>\n",
              "      <td>...</td>\n",
              "      <td>...</td>\n",
              "      <td>...</td>\n",
              "      <td>...</td>\n",
              "      <td>...</td>\n",
              "      <td>...</td>\n",
              "    </tr>\n",
              "    <tr>\n",
              "      <th>725</th>\n",
              "      <td>285.0</td>\n",
              "      <td>4328.7</td>\n",
              "      <td>ОПЛАЧЕНО</td>\n",
              "      <td>Васильев</td>\n",
              "      <td>текущая</td>\n",
              "      <td>NaN</td>\n",
              "      <td>оригинал</td>\n",
              "      <td>2021-11-15</td>\n",
              "      <td>2021-10-01</td>\n",
              "    </tr>\n",
              "    <tr>\n",
              "      <th>726</th>\n",
              "      <td>360.0</td>\n",
              "      <td>3096.2</td>\n",
              "      <td>ОПЛАЧЕНО</td>\n",
              "      <td>Васильев</td>\n",
              "      <td>новая</td>\n",
              "      <td>NaN</td>\n",
              "      <td>НЕТ</td>\n",
              "      <td>NaT</td>\n",
              "      <td>2021-10-01</td>\n",
              "    </tr>\n",
              "    <tr>\n",
              "      <th>727</th>\n",
              "      <td>360.0</td>\n",
              "      <td>3096.2</td>\n",
              "      <td>ПРОСРОЧЕНО</td>\n",
              "      <td>Васильев</td>\n",
              "      <td>новая</td>\n",
              "      <td>NaN</td>\n",
              "      <td>НЕТ</td>\n",
              "      <td>NaT</td>\n",
              "      <td>2021-10-01</td>\n",
              "    </tr>\n",
              "    <tr>\n",
              "      <th>728</th>\n",
              "      <td>373.0</td>\n",
              "      <td>4403.7</td>\n",
              "      <td>ОПЛАЧЕНО</td>\n",
              "      <td>Михайлов</td>\n",
              "      <td>новая</td>\n",
              "      <td>NaN</td>\n",
              "      <td>оригинал</td>\n",
              "      <td>2021-11-08</td>\n",
              "      <td>2021-10-01</td>\n",
              "    </tr>\n",
              "    <tr>\n",
              "      <th>729</th>\n",
              "      <td>286.0</td>\n",
              "      <td>3978.7</td>\n",
              "      <td>ОПЛАЧЕНО</td>\n",
              "      <td>Филимонова</td>\n",
              "      <td>текущая</td>\n",
              "      <td>NaN</td>\n",
              "      <td>оригинал</td>\n",
              "      <td>2021-11-15</td>\n",
              "      <td>2021-10-01</td>\n",
              "    </tr>\n",
              "  </tbody>\n",
              "</table>\n",
              "<p>730 rows × 9 columns</p>\n",
              "</div>\n",
              "    <div class=\"colab-df-buttons\">\n",
              "\n",
              "  <div class=\"colab-df-container\">\n",
              "    <button class=\"colab-df-convert\" onclick=\"convertToInteractive('df-c0dc9686-7896-49b9-9abc-63b7922db672')\"\n",
              "            title=\"Convert this dataframe to an interactive table.\"\n",
              "            style=\"display:none;\">\n",
              "\n",
              "  <svg xmlns=\"http://www.w3.org/2000/svg\" height=\"24px\" viewBox=\"0 -960 960 960\">\n",
              "    <path d=\"M120-120v-720h720v720H120Zm60-500h600v-160H180v160Zm220 220h160v-160H400v160Zm0 220h160v-160H400v160ZM180-400h160v-160H180v160Zm440 0h160v-160H620v160ZM180-180h160v-160H180v160Zm440 0h160v-160H620v160Z\"/>\n",
              "  </svg>\n",
              "    </button>\n",
              "\n",
              "  <style>\n",
              "    .colab-df-container {\n",
              "      display:flex;\n",
              "      gap: 12px;\n",
              "    }\n",
              "\n",
              "    .colab-df-convert {\n",
              "      background-color: #E8F0FE;\n",
              "      border: none;\n",
              "      border-radius: 50%;\n",
              "      cursor: pointer;\n",
              "      display: none;\n",
              "      fill: #1967D2;\n",
              "      height: 32px;\n",
              "      padding: 0 0 0 0;\n",
              "      width: 32px;\n",
              "    }\n",
              "\n",
              "    .colab-df-convert:hover {\n",
              "      background-color: #E2EBFA;\n",
              "      box-shadow: 0px 1px 2px rgba(60, 64, 67, 0.3), 0px 1px 3px 1px rgba(60, 64, 67, 0.15);\n",
              "      fill: #174EA6;\n",
              "    }\n",
              "\n",
              "    .colab-df-buttons div {\n",
              "      margin-bottom: 4px;\n",
              "    }\n",
              "\n",
              "    [theme=dark] .colab-df-convert {\n",
              "      background-color: #3B4455;\n",
              "      fill: #D2E3FC;\n",
              "    }\n",
              "\n",
              "    [theme=dark] .colab-df-convert:hover {\n",
              "      background-color: #434B5C;\n",
              "      box-shadow: 0px 1px 3px 1px rgba(0, 0, 0, 0.15);\n",
              "      filter: drop-shadow(0px 1px 2px rgba(0, 0, 0, 0.3));\n",
              "      fill: #FFFFFF;\n",
              "    }\n",
              "  </style>\n",
              "\n",
              "    <script>\n",
              "      const buttonEl =\n",
              "        document.querySelector('#df-c0dc9686-7896-49b9-9abc-63b7922db672 button.colab-df-convert');\n",
              "      buttonEl.style.display =\n",
              "        google.colab.kernel.accessAllowed ? 'block' : 'none';\n",
              "\n",
              "      async function convertToInteractive(key) {\n",
              "        const element = document.querySelector('#df-c0dc9686-7896-49b9-9abc-63b7922db672');\n",
              "        const dataTable =\n",
              "          await google.colab.kernel.invokeFunction('convertToInteractive',\n",
              "                                                    [key], {});\n",
              "        if (!dataTable) return;\n",
              "\n",
              "        const docLinkHtml = 'Like what you see? Visit the ' +\n",
              "          '<a target=\"_blank\" href=https://colab.research.google.com/notebooks/data_table.ipynb>data table notebook</a>'\n",
              "          + ' to learn more about interactive tables.';\n",
              "        element.innerHTML = '';\n",
              "        dataTable['output_type'] = 'display_data';\n",
              "        await google.colab.output.renderOutput(dataTable, element);\n",
              "        const docLink = document.createElement('div');\n",
              "        docLink.innerHTML = docLinkHtml;\n",
              "        element.appendChild(docLink);\n",
              "      }\n",
              "    </script>\n",
              "  </div>\n",
              "\n",
              "\n",
              "<div id=\"df-7bc86bb7-4b50-4518-ae37-80eb996f76a8\">\n",
              "  <button class=\"colab-df-quickchart\" onclick=\"quickchart('df-7bc86bb7-4b50-4518-ae37-80eb996f76a8')\"\n",
              "            title=\"Suggest charts.\"\n",
              "            style=\"display:none;\">\n",
              "\n",
              "<svg xmlns=\"http://www.w3.org/2000/svg\" height=\"24px\"viewBox=\"0 0 24 24\"\n",
              "     width=\"24px\">\n",
              "    <g>\n",
              "        <path d=\"M19 3H5c-1.1 0-2 .9-2 2v14c0 1.1.9 2 2 2h14c1.1 0 2-.9 2-2V5c0-1.1-.9-2-2-2zM9 17H7v-7h2v7zm4 0h-2V7h2v10zm4 0h-2v-4h2v4z\"/>\n",
              "    </g>\n",
              "</svg>\n",
              "  </button>\n",
              "\n",
              "<style>\n",
              "  .colab-df-quickchart {\n",
              "      --bg-color: #E8F0FE;\n",
              "      --fill-color: #1967D2;\n",
              "      --hover-bg-color: #E2EBFA;\n",
              "      --hover-fill-color: #174EA6;\n",
              "      --disabled-fill-color: #AAA;\n",
              "      --disabled-bg-color: #DDD;\n",
              "  }\n",
              "\n",
              "  [theme=dark] .colab-df-quickchart {\n",
              "      --bg-color: #3B4455;\n",
              "      --fill-color: #D2E3FC;\n",
              "      --hover-bg-color: #434B5C;\n",
              "      --hover-fill-color: #FFFFFF;\n",
              "      --disabled-bg-color: #3B4455;\n",
              "      --disabled-fill-color: #666;\n",
              "  }\n",
              "\n",
              "  .colab-df-quickchart {\n",
              "    background-color: var(--bg-color);\n",
              "    border: none;\n",
              "    border-radius: 50%;\n",
              "    cursor: pointer;\n",
              "    display: none;\n",
              "    fill: var(--fill-color);\n",
              "    height: 32px;\n",
              "    padding: 0;\n",
              "    width: 32px;\n",
              "  }\n",
              "\n",
              "  .colab-df-quickchart:hover {\n",
              "    background-color: var(--hover-bg-color);\n",
              "    box-shadow: 0 1px 2px rgba(60, 64, 67, 0.3), 0 1px 3px 1px rgba(60, 64, 67, 0.15);\n",
              "    fill: var(--button-hover-fill-color);\n",
              "  }\n",
              "\n",
              "  .colab-df-quickchart-complete:disabled,\n",
              "  .colab-df-quickchart-complete:disabled:hover {\n",
              "    background-color: var(--disabled-bg-color);\n",
              "    fill: var(--disabled-fill-color);\n",
              "    box-shadow: none;\n",
              "  }\n",
              "\n",
              "  .colab-df-spinner {\n",
              "    border: 2px solid var(--fill-color);\n",
              "    border-color: transparent;\n",
              "    border-bottom-color: var(--fill-color);\n",
              "    animation:\n",
              "      spin 1s steps(1) infinite;\n",
              "  }\n",
              "\n",
              "  @keyframes spin {\n",
              "    0% {\n",
              "      border-color: transparent;\n",
              "      border-bottom-color: var(--fill-color);\n",
              "      border-left-color: var(--fill-color);\n",
              "    }\n",
              "    20% {\n",
              "      border-color: transparent;\n",
              "      border-left-color: var(--fill-color);\n",
              "      border-top-color: var(--fill-color);\n",
              "    }\n",
              "    30% {\n",
              "      border-color: transparent;\n",
              "      border-left-color: var(--fill-color);\n",
              "      border-top-color: var(--fill-color);\n",
              "      border-right-color: var(--fill-color);\n",
              "    }\n",
              "    40% {\n",
              "      border-color: transparent;\n",
              "      border-right-color: var(--fill-color);\n",
              "      border-top-color: var(--fill-color);\n",
              "    }\n",
              "    60% {\n",
              "      border-color: transparent;\n",
              "      border-right-color: var(--fill-color);\n",
              "    }\n",
              "    80% {\n",
              "      border-color: transparent;\n",
              "      border-right-color: var(--fill-color);\n",
              "      border-bottom-color: var(--fill-color);\n",
              "    }\n",
              "    90% {\n",
              "      border-color: transparent;\n",
              "      border-bottom-color: var(--fill-color);\n",
              "    }\n",
              "  }\n",
              "</style>\n",
              "\n",
              "  <script>\n",
              "    async function quickchart(key) {\n",
              "      const quickchartButtonEl =\n",
              "        document.querySelector('#' + key + ' button');\n",
              "      quickchartButtonEl.disabled = true;  // To prevent multiple clicks.\n",
              "      quickchartButtonEl.classList.add('colab-df-spinner');\n",
              "      try {\n",
              "        const charts = await google.colab.kernel.invokeFunction(\n",
              "            'suggestCharts', [key], {});\n",
              "      } catch (error) {\n",
              "        console.error('Error during call to suggestCharts:', error);\n",
              "      }\n",
              "      quickchartButtonEl.classList.remove('colab-df-spinner');\n",
              "      quickchartButtonEl.classList.add('colab-df-quickchart-complete');\n",
              "    }\n",
              "    (() => {\n",
              "      let quickchartButtonEl =\n",
              "        document.querySelector('#df-7bc86bb7-4b50-4518-ae37-80eb996f76a8 button');\n",
              "      quickchartButtonEl.style.display =\n",
              "        google.colab.kernel.accessAllowed ? 'block' : 'none';\n",
              "    })();\n",
              "  </script>\n",
              "</div>\n",
              "    </div>\n",
              "  </div>\n"
            ]
          },
          "metadata": {},
          "execution_count": 42
        }
      ],
      "source": [
        "df['trade_date'] = None\n",
        "\n",
        "current_date = None\n",
        "\n",
        "months = {'Январь': 1, 'Февраль': 2, 'Март': 3, 'Апрель': 4, 'Май': 5, 'Июнь': 6, 'Июль': 7, 'Август': 8, 'Сентябрь': 9, 'Октябрь': 10, 'Ноябрь': 11, 'Декабрь': 12}#создаем словарь с соответствием названий месяцев и их числового обознчения\n",
        "\n",
        "for index, status in enumerate(df['status']):#в столбце статуса ищем числа, тк они содеражатся у указаниях месяца\n",
        "    if any(char.isdigit() for char in status):\n",
        "        current_date = status\n",
        "    else:\n",
        "        df.at[index, 'trade_date'] = current_date\n",
        "\n",
        "for index, row in df.iterrows():\n",
        "    if row['trade_date']:\n",
        "        month, year = row['trade_date'].split()\n",
        "        month_number = months.get(month.capitalize())\n",
        "        df.at[index, 'trade_date'] = pd.to_datetime(f\"{year}-{month_number:02d}\").date()\n",
        "\n",
        "df#так же обычно вывожу в отдельной ячейке и с осмотром общих параметров"
      ]
    },
    {
      "cell_type": "code",
      "execution_count": null,
      "id": "c2d6cf90",
      "metadata": {
        "scrolled": true,
        "colab": {
          "base_uri": "https://localhost:8080/"
        },
        "id": "c2d6cf90",
        "outputId": "7d3063d2-ae08-4e4b-85ca-64fff5f99110"
      },
      "outputs": [
        {
          "output_type": "stream",
          "name": "stdout",
          "text": [
            "Количество оригиналов договора, полученных в июне 2021 года: 76\n"
          ]
        }
      ],
      "source": [
        "df['trade_date']=pd.to_datetime(df['trade_date'],errors='coerce')\n",
        "\n",
        "may_deals=df[(df['trade_date'].dt.year==2021)&(df['trade_date'].dt.month==5)&(df['receiving_date'].dt.month==6)]\n",
        "\n",
        "count=len(may_deals[(may_deals['document']=='оригинал')])\n",
        "\n",
        "print(\"Количество оригиналов договора, полученных в июне 2021 года:\", count)"
      ]
    },
    {
      "cell_type": "markdown",
      "id": "ae56cc86",
      "metadata": {
        "id": "ae56cc86"
      },
      "source": [
        "примечание к решению: сначала я решила, что наличие \"оригинал\" будет избыточное условие, т к уже дает понять дата receiving_date, но есть один пропуск (228), так что добавила еще условие\n",
        "\n",
        "\n",
        "Если решение выдаст ошибку, перезапустите, пожалуйста, еще раз все ячейки, он теряет иногда первую строку (прошу прощения)"
      ]
    },
    {
      "cell_type": "markdown",
      "id": "10c167a0",
      "metadata": {
        "id": "10c167a0"
      },
      "source": [
        "<b>Как изменялась выручка компании за рассматриваемый период?\n",
        "Проиллюстрируйте графиком.</b>"
      ]
    },
    {
      "cell_type": "code",
      "execution_count": null,
      "id": "545207e1",
      "metadata": {
        "colab": {
          "base_uri": "https://localhost:8080/",
          "height": 833
        },
        "id": "545207e1",
        "outputId": "afc834aa-6e94-4825-d37c-fb78d5816837"
      },
      "outputs": [
        {
          "output_type": "stream",
          "name": "stderr",
          "text": [
            "<ipython-input-44-a3e27ac7245b>:6: SettingWithCopyWarning: \n",
            "A value is trying to be set on a copy of a slice from a DataFrame.\n",
            "Try using .loc[row_indexer,col_indexer] = value instead\n",
            "\n",
            "See the caveats in the documentation: https://pandas.pydata.org/pandas-docs/stable/user_guide/indexing.html#returning-a-view-versus-a-copy\n",
            "  df['receiving_date']=pd.to_datetime(df['receiving_date'],errors='coerce')\n",
            "<ipython-input-44-a3e27ac7245b>:8: SettingWithCopyWarning: \n",
            "A value is trying to be set on a copy of a slice from a DataFrame.\n",
            "Try using .loc[row_indexer,col_indexer] = value instead\n",
            "\n",
            "See the caveats in the documentation: https://pandas.pydata.org/pandas-docs/stable/user_guide/indexing.html#returning-a-view-versus-a-copy\n",
            "  df['receiving_date']=df['receiving_date'].dt.to_period('M').astype(str)#преобразуем в месяцы\n"
          ]
        },
        {
          "output_type": "execute_result",
          "data": {
            "text/plain": [
              "<matplotlib.legend.Legend at 0x7bedbee7e890>"
            ]
          },
          "metadata": {},
          "execution_count": 44
        },
        {
          "output_type": "display_data",
          "data": {
            "text/plain": [
              "<Figure size 1000x600 with 1 Axes>"
            ],
            "image/png": "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\n"
          },
          "metadata": {}
        }
      ],
      "source": [
        "import matplotlib.pyplot as plt\n",
        "import numpy as np\n",
        "\n",
        "df = df.dropna(subset=['receiving_date'])#пропуски\n",
        "\n",
        "df['receiving_date']=pd.to_datetime(df['receiving_date'],errors='coerce')\n",
        "\n",
        "df['receiving_date']=df['receiving_date'].dt.to_period('M').astype(str)#преобразуем в месяцы\n",
        "\n",
        "revenue=df.groupby('receiving_date')['sum'].sum()\n",
        "\n",
        "fig, ax=plt.subplots(figsize=(10, 6))\n",
        "ax.plot(revenue.index.astype(str), revenue.values, marker='o', linestyle='-', color='b')\n",
        "\n",
        "ax.set_xlabel('Месяц')\n",
        "ax.set_ylabel('Выручка')\n",
        "ax.set_title('Динамика выручки по месяцам')\n",
        "\n",
        "ax.tick_params(axis='x', rotation=45)\n",
        "ax.grid(True)\n",
        "\n",
        "for i, j in zip(revenue.index.astype(str), revenue.values):\n",
        "    ax.annotate(str(int(j)), xy=(i, j), xytext=(-10, 5), textcoords='offset points') #добавим метки\n",
        "\n",
        "mean_value = np.mean(revenue.values)\n",
        "ax.axhline(mean_value, linestyle='--', color='r', label='Среднее значение')#и среднее значение\n",
        "\n",
        "ax.legend()"
      ]
    },
    {
      "cell_type": "markdown",
      "id": "4675ff9f",
      "metadata": {
        "id": "4675ff9f"
      },
      "source": [
        "важное примечение к решению: если бы даты были за два года, а не за один, то мне было бы нужно так же добавить год в группировку, иначе месяцы бы нескольких лет перемешались."
      ]
    },
    {
      "cell_type": "markdown",
      "id": "d927d59d",
      "metadata": {
        "id": "d927d59d"
      },
      "source": [
        "### Задание"
      ]
    },
    {
      "cell_type": "markdown",
      "id": "97e10133",
      "metadata": {
        "id": "97e10133"
      },
      "source": [
        "За каждую заключенную сделку менеджер получает бонус, который рассчитывается\n",
        "следующим образом.\n",
        "1) За новые сделки менеджер получает 7 % от суммы, при условии, что статус\n",
        "оплаты «ОПЛАЧЕНО», а также имеется оригинал подписанного договора с\n",
        "клиентом (в рассматриваемом месяце).\n",
        "\n",
        "2) За текущие сделки менеджер получает 5 % от суммы, если она больше 10 тыс.,\n",
        "и 3 % от суммы, если меньше. При этом статус оплаты может быть любым,\n",
        "кроме «ПРОСРОЧЕНО», а также необходимо наличие оригинала подписанного\n",
        "договора с клиентом (в рассматриваемом месяце).\n",
        "\n",
        "Бонусы по сделкам, оригиналы для которых приходят позже рассматриваемого\n",
        "месяца, считаются остатком на следующий период, который выплачивается по мере\n",
        "прихода оригиналов. Вычислите остаток каждого из менеджеров на 01.07.2021."
      ]
    },
    {
      "cell_type": "markdown",
      "id": "b7b0f653",
      "metadata": {
        "id": "b7b0f653"
      },
      "source": [
        "это задание вызвало у меня некоторые вопросы по условию, поэтому я приведу одно решение и распишу другое, если можно."
      ]
    },
    {
      "cell_type": "code",
      "execution_count": null,
      "id": "55a3cd94",
      "metadata": {
        "colab": {
          "base_uri": "https://localhost:8080/"
        },
        "id": "55a3cd94",
        "outputId": "3e56e6d0-a74e-437b-ec1c-342962467a7b"
      },
      "outputs": [
        {
          "output_type": "stream",
          "name": "stdout",
          "text": [
            "sale\n",
            "Андреев        8479.2054\n",
            "Васильев        819.0870\n",
            "Иванов         6584.3030\n",
            "Кузнецова      5863.6052\n",
            "Петрова       12536.6804\n",
            "Селиванов      5651.0120\n",
            "Смирнов        9763.3930\n",
            "Филимонова     1516.7465\n",
            "Name: bonus, dtype: float64\n"
          ]
        },
        {
          "output_type": "stream",
          "name": "stderr",
          "text": [
            "<ipython-input-45-8cad5d4fc5ec>:3: SettingWithCopyWarning: \n",
            "A value is trying to be set on a copy of a slice from a DataFrame.\n",
            "Try using .loc[row_indexer,col_indexer] = value instead\n",
            "\n",
            "See the caveats in the documentation: https://pandas.pydata.org/pandas-docs/stable/user_guide/indexing.html#returning-a-view-versus-a-copy\n",
            "  df['bonus']=df.apply(lambda row: row['sum']*0.07 if row['new/current']=='новая' and row['status']=='ОПЛАЧЕНО' and row['document'] == 'оригинал' else\n"
          ]
        }
      ],
      "source": [
        "df=df[df['receiving_date']<='2021-07-01']\n",
        "\n",
        "df['bonus']=df.apply(lambda row: row['sum']*0.07 if row['new/current']=='новая' and row['status']=='ОПЛАЧЕНО' and row['document'] == 'оригинал' else\n",
        "                          row['sum']*0.05 if row['new/current']=='текущая' and row['sum']>10000 and row['status']!='ПРОСРОЧЕНО' and row['document']=='оригинал' else\n",
        "                          row['sum']*0.03 if row['new/current']=='текущая' and row['sum']<=10000 and row['status']!='ПРОСРОЧЕНО' and row['document']=='оригинал' else\n",
        "                          0,\n",
        "                       axis=1)\n",
        "\n",
        "manager_bonuses=df.groupby('sale')['bonus'].sum()\n",
        "\n",
        "print(manager_bonuses)"
      ]
    },
    {
      "cell_type": "markdown",
      "id": "2aa016cd",
      "metadata": {
        "id": "2aa016cd"
      },
      "source": [
        "так же добавлю еще одно решение, в случае, если совпадение месяцев сделки и документа важно. оно в целом такое, но с добавлением фильтра в начале"
      ]
    },
    {
      "cell_type": "code",
      "execution_count": null,
      "id": "fdeaa783",
      "metadata": {
        "colab": {
          "base_uri": "https://localhost:8080/"
        },
        "id": "fdeaa783",
        "outputId": "424e32ed-ab97-4f3d-e17e-11394e3aa1f7"
      },
      "outputs": [
        {
          "output_type": "stream",
          "name": "stdout",
          "text": [
            "sale\n",
            "Андреев       1695.371\n",
            "Филимонова     103.611\n",
            "Name: bonus, dtype: float64\n"
          ]
        },
        {
          "output_type": "stream",
          "name": "stderr",
          "text": [
            "<ipython-input-46-3d973d3fc2b2>:1: SettingWithCopyWarning: \n",
            "A value is trying to be set on a copy of a slice from a DataFrame.\n",
            "Try using .loc[row_indexer,col_indexer] = value instead\n",
            "\n",
            "See the caveats in the documentation: https://pandas.pydata.org/pandas-docs/stable/user_guide/indexing.html#returning-a-view-versus-a-copy\n",
            "  df['receiving_date'] = pd.to_datetime(df['receiving_date'], errors='coerce')\n",
            "<ipython-input-46-3d973d3fc2b2>:3: SettingWithCopyWarning: \n",
            "A value is trying to be set on a copy of a slice from a DataFrame.\n",
            "Try using .loc[row_indexer,col_indexer] = value instead\n",
            "\n",
            "See the caveats in the documentation: https://pandas.pydata.org/pandas-docs/stable/user_guide/indexing.html#returning-a-view-versus-a-copy\n",
            "  df['trade_date']=pd.to_datetime(df['trade_date'],errors='coerce')\n"
          ]
        }
      ],
      "source": [
        "df['receiving_date'] = pd.to_datetime(df['receiving_date'], errors='coerce')\n",
        "\n",
        "df['trade_date']=pd.to_datetime(df['trade_date'],errors='coerce')\n",
        "\n",
        "df=df[df['receiving_date'].dt.month==df['trade_date'].dt.month]\n",
        "df=df[df['receiving_date']<='2021-07-01']\n",
        "\n",
        "df['bonus']=df.apply(lambda row: row['sum']*0.07 if row['new/current']=='новая' and row['status']=='ОПЛАЧЕНО' and row['document'] == 'оригинал' else\n",
        "                          row['sum']*0.05 if row['new/current']=='текущая' and row['sum']>10000 and row['status']!='ПРОСРОЧЕНО' and row['document']=='оригинал' else\n",
        "                          row['sum']*0.03 if row['new/current']=='текущая' and row['sum']<=10000 and row['status']!='ПРОСРОЧЕНО' and row['document']=='оригинал' else\n",
        "                          0,\n",
        "                       axis=1)\n",
        "\n",
        "manager_bonuses=df.groupby('sale')['bonus'].sum()\n",
        "\n",
        "print(manager_bonuses)"
      ]
    },
    {
      "cell_type": "code",
      "execution_count": null,
      "id": "034c1bea",
      "metadata": {
        "id": "034c1bea"
      },
      "outputs": [],
      "source": []
    }
  ],
  "metadata": {
    "ExecuteTimeLog": [
      {
        "duration": 3,
        "start_time": "2023-09-20T15:16:16.160Z"
      },
      {
        "duration": 8,
        "start_time": "2023-09-20T15:59:15.322Z"
      },
      {
        "duration": 6,
        "start_time": "2023-09-20T15:59:29.179Z"
      },
      {
        "duration": 6,
        "start_time": "2023-09-20T15:59:59.188Z"
      },
      {
        "duration": 5,
        "start_time": "2023-09-20T16:00:12.549Z"
      },
      {
        "duration": 5,
        "start_time": "2023-09-20T16:00:25.633Z"
      },
      {
        "duration": 3721,
        "start_time": "2023-09-20T16:00:55.835Z"
      },
      {
        "duration": 2471,
        "start_time": "2023-09-20T16:01:14.774Z"
      },
      {
        "duration": 3623,
        "start_time": "2023-09-20T16:03:44.641Z"
      },
      {
        "duration": 500,
        "start_time": "2023-09-20T16:09:55.742Z"
      },
      {
        "duration": 11,
        "start_time": "2023-09-20T16:11:06.723Z"
      },
      {
        "duration": 162,
        "start_time": "2023-09-20T16:11:16.165Z"
      },
      {
        "duration": 12,
        "start_time": "2023-09-20T16:12:06.640Z"
      },
      {
        "duration": 102,
        "start_time": "2023-09-20T16:12:16.730Z"
      },
      {
        "duration": 11,
        "start_time": "2023-09-20T16:14:46.311Z"
      },
      {
        "duration": 104,
        "start_time": "2023-09-20T16:15:12.289Z"
      },
      {
        "duration": 110,
        "start_time": "2023-09-20T16:15:42.481Z"
      },
      {
        "duration": 5,
        "start_time": "2023-09-20T16:20:22.775Z"
      },
      {
        "duration": 11,
        "start_time": "2023-09-20T16:20:51.142Z"
      },
      {
        "duration": 13,
        "start_time": "2023-09-20T16:22:12.130Z"
      },
      {
        "duration": 11,
        "start_time": "2023-09-20T16:22:43.353Z"
      },
      {
        "duration": 112,
        "start_time": "2023-09-20T16:23:49.499Z"
      },
      {
        "duration": 127,
        "start_time": "2023-09-20T16:25:36.985Z"
      },
      {
        "duration": 117,
        "start_time": "2023-09-20T16:25:53.900Z"
      },
      {
        "duration": 128,
        "start_time": "2023-09-20T16:26:27.140Z"
      },
      {
        "duration": 122,
        "start_time": "2023-09-20T16:30:10.592Z"
      },
      {
        "duration": 117,
        "start_time": "2023-09-20T16:30:27.185Z"
      },
      {
        "duration": 4,
        "start_time": "2023-09-20T16:31:16.353Z"
      },
      {
        "duration": 3,
        "start_time": "2023-09-20T16:31:28.037Z"
      },
      {
        "duration": 8,
        "start_time": "2023-09-20T16:31:46.478Z"
      },
      {
        "duration": 7,
        "start_time": "2023-09-20T16:32:00.121Z"
      },
      {
        "duration": 7,
        "start_time": "2023-09-20T16:34:38.262Z"
      },
      {
        "duration": 7,
        "start_time": "2023-09-20T16:34:51.262Z"
      },
      {
        "duration": 69,
        "start_time": "2023-09-20T16:34:55.075Z"
      },
      {
        "duration": 233,
        "start_time": "2023-09-20T16:37:24.218Z"
      },
      {
        "duration": 149,
        "start_time": "2023-09-20T16:47:18.778Z"
      },
      {
        "duration": 1278,
        "start_time": "2023-09-20T16:53:41.097Z"
      },
      {
        "duration": 4057,
        "start_time": "2023-09-20T16:54:11.789Z"
      },
      {
        "duration": 333,
        "start_time": "2023-09-20T16:54:15.848Z"
      },
      {
        "duration": 70,
        "start_time": "2023-09-20T16:54:16.183Z"
      },
      {
        "duration": 11,
        "start_time": "2023-09-20T16:54:16.254Z"
      },
      {
        "duration": 235,
        "start_time": "2023-09-20T16:54:16.267Z"
      },
      {
        "duration": 1267,
        "start_time": "2023-09-20T16:54:16.504Z"
      },
      {
        "duration": 1174,
        "start_time": "2023-09-20T16:55:11.746Z"
      },
      {
        "duration": 1225,
        "start_time": "2023-09-20T16:55:46.413Z"
      },
      {
        "duration": 13,
        "start_time": "2023-09-20T16:57:49.294Z"
      },
      {
        "duration": 6,
        "start_time": "2023-09-20T17:02:38.249Z"
      },
      {
        "duration": 6,
        "start_time": "2023-09-20T17:02:53.282Z"
      },
      {
        "duration": 5,
        "start_time": "2023-09-20T17:03:40.570Z"
      },
      {
        "duration": 6,
        "start_time": "2023-09-20T17:03:54.793Z"
      },
      {
        "duration": 5,
        "start_time": "2023-09-20T17:04:10.689Z"
      },
      {
        "duration": 5,
        "start_time": "2023-09-20T17:04:29.667Z"
      },
      {
        "duration": 5,
        "start_time": "2023-09-20T17:05:28.826Z"
      },
      {
        "duration": 5,
        "start_time": "2023-09-20T17:05:41.531Z"
      },
      {
        "duration": 5,
        "start_time": "2023-09-20T17:05:47.785Z"
      },
      {
        "duration": 7,
        "start_time": "2023-09-20T17:05:50.900Z"
      },
      {
        "duration": 4,
        "start_time": "2023-09-20T17:06:28.889Z"
      },
      {
        "duration": 5,
        "start_time": "2023-09-20T17:07:03.269Z"
      },
      {
        "duration": 3311,
        "start_time": "2023-09-20T17:07:11.226Z"
      },
      {
        "duration": 290,
        "start_time": "2023-09-20T17:07:14.539Z"
      },
      {
        "duration": 64,
        "start_time": "2023-09-20T17:07:14.830Z"
      },
      {
        "duration": 6,
        "start_time": "2023-09-20T17:07:14.896Z"
      },
      {
        "duration": 202,
        "start_time": "2023-09-20T17:07:14.904Z"
      },
      {
        "duration": 97,
        "start_time": "2023-09-20T17:07:15.108Z"
      },
      {
        "duration": 0,
        "start_time": "2023-09-20T17:07:15.207Z"
      },
      {
        "duration": 10,
        "start_time": "2023-09-20T17:08:58.601Z"
      },
      {
        "duration": 14,
        "start_time": "2023-09-20T17:09:06.865Z"
      },
      {
        "duration": 10,
        "start_time": "2023-09-20T17:09:37.841Z"
      },
      {
        "duration": 5,
        "start_time": "2023-09-20T17:11:52.592Z"
      },
      {
        "duration": 5,
        "start_time": "2023-09-20T17:12:07.488Z"
      },
      {
        "duration": 160,
        "start_time": "2023-09-20T17:13:01.146Z"
      },
      {
        "duration": 157,
        "start_time": "2023-09-20T17:13:10.212Z"
      },
      {
        "duration": 3018,
        "start_time": "2023-09-20T17:14:36.416Z"
      },
      {
        "duration": 288,
        "start_time": "2023-09-20T17:14:39.436Z"
      },
      {
        "duration": 60,
        "start_time": "2023-09-20T17:14:39.726Z"
      },
      {
        "duration": 12,
        "start_time": "2023-09-20T17:14:39.788Z"
      },
      {
        "duration": 190,
        "start_time": "2023-09-20T17:14:39.802Z"
      },
      {
        "duration": 92,
        "start_time": "2023-09-20T17:14:39.993Z"
      },
      {
        "duration": 0,
        "start_time": "2023-09-20T17:14:40.087Z"
      },
      {
        "duration": 11,
        "start_time": "2023-09-20T17:15:09.558Z"
      },
      {
        "duration": 10,
        "start_time": "2023-09-20T17:18:24.789Z"
      },
      {
        "duration": 11,
        "start_time": "2023-09-20T17:19:34.506Z"
      },
      {
        "duration": 13,
        "start_time": "2023-09-20T17:20:37.094Z"
      },
      {
        "duration": 8,
        "start_time": "2023-09-20T17:20:45.378Z"
      },
      {
        "duration": 11,
        "start_time": "2023-09-20T17:22:30.967Z"
      },
      {
        "duration": 9,
        "start_time": "2023-09-20T17:23:11.804Z"
      },
      {
        "duration": 9,
        "start_time": "2023-09-20T17:46:21.064Z"
      },
      {
        "duration": 8,
        "start_time": "2023-09-20T17:47:11.530Z"
      },
      {
        "duration": 295,
        "start_time": "2023-09-20T17:47:42.179Z"
      },
      {
        "duration": 116,
        "start_time": "2023-09-20T17:52:23.873Z"
      },
      {
        "duration": 15,
        "start_time": "2023-09-20T17:54:42.417Z"
      },
      {
        "duration": 16,
        "start_time": "2023-09-20T17:54:54.602Z"
      },
      {
        "duration": 244,
        "start_time": "2023-09-20T17:55:37.761Z"
      },
      {
        "duration": 216,
        "start_time": "2023-09-20T17:55:51.973Z"
      },
      {
        "duration": 252,
        "start_time": "2023-09-20T17:57:03.557Z"
      },
      {
        "duration": 2973,
        "start_time": "2023-09-20T17:58:29.135Z"
      },
      {
        "duration": 9,
        "start_time": "2023-09-20T17:58:32.110Z"
      },
      {
        "duration": 18,
        "start_time": "2023-09-20T17:58:32.120Z"
      },
      {
        "duration": 196,
        "start_time": "2023-09-20T17:58:32.139Z"
      },
      {
        "duration": 37,
        "start_time": "2023-09-20T17:58:32.337Z"
      },
      {
        "duration": 511,
        "start_time": "2023-09-20T17:58:32.377Z"
      },
      {
        "duration": 5,
        "start_time": "2023-09-20T17:58:32.890Z"
      },
      {
        "duration": 60,
        "start_time": "2023-09-20T18:00:28.199Z"
      },
      {
        "duration": 77,
        "start_time": "2023-09-20T18:04:46.430Z"
      },
      {
        "duration": 12,
        "start_time": "2023-09-20T18:05:31.208Z"
      },
      {
        "duration": 15,
        "start_time": "2023-09-20T18:06:19.694Z"
      },
      {
        "duration": 13,
        "start_time": "2023-09-20T18:06:28.029Z"
      },
      {
        "duration": 13,
        "start_time": "2023-09-20T18:10:50.945Z"
      },
      {
        "duration": 14,
        "start_time": "2023-09-20T18:11:14.480Z"
      },
      {
        "duration": 3067,
        "start_time": "2023-09-20T18:11:23.865Z"
      },
      {
        "duration": 0,
        "start_time": "2023-09-20T18:11:26.934Z"
      },
      {
        "duration": 0,
        "start_time": "2023-09-20T18:11:26.935Z"
      },
      {
        "duration": 0,
        "start_time": "2023-09-20T18:11:26.937Z"
      },
      {
        "duration": 0,
        "start_time": "2023-09-20T18:11:26.937Z"
      },
      {
        "duration": 0,
        "start_time": "2023-09-20T18:11:26.939Z"
      },
      {
        "duration": 0,
        "start_time": "2023-09-20T18:11:26.944Z"
      },
      {
        "duration": 3000,
        "start_time": "2023-09-20T18:11:50.829Z"
      },
      {
        "duration": 9,
        "start_time": "2023-09-20T18:11:53.831Z"
      },
      {
        "duration": 11,
        "start_time": "2023-09-20T18:11:53.841Z"
      },
      {
        "duration": 167,
        "start_time": "2023-09-20T18:11:53.854Z"
      },
      {
        "duration": 24,
        "start_time": "2023-09-20T18:11:54.024Z"
      },
      {
        "duration": 511,
        "start_time": "2023-09-20T18:11:54.050Z"
      },
      {
        "duration": 63,
        "start_time": "2023-09-20T18:11:54.562Z"
      },
      {
        "duration": 92,
        "start_time": "2023-09-20T18:12:52.517Z"
      },
      {
        "duration": 14,
        "start_time": "2023-09-20T18:13:11.669Z"
      },
      {
        "duration": 3089,
        "start_time": "2023-09-20T18:13:25.795Z"
      },
      {
        "duration": 8,
        "start_time": "2023-09-20T18:13:28.886Z"
      },
      {
        "duration": 14,
        "start_time": "2023-09-20T18:13:28.895Z"
      },
      {
        "duration": 167,
        "start_time": "2023-09-20T18:13:28.911Z"
      },
      {
        "duration": 9,
        "start_time": "2023-09-20T18:13:29.081Z"
      },
      {
        "duration": 476,
        "start_time": "2023-09-20T18:13:29.092Z"
      },
      {
        "duration": 62,
        "start_time": "2023-09-20T18:13:29.570Z"
      },
      {
        "duration": 78,
        "start_time": "2023-09-20T18:19:10.478Z"
      },
      {
        "duration": 2782,
        "start_time": "2023-09-20T18:19:21.628Z"
      },
      {
        "duration": 9,
        "start_time": "2023-09-20T18:19:24.412Z"
      },
      {
        "duration": 7,
        "start_time": "2023-09-20T18:19:24.422Z"
      },
      {
        "duration": 203,
        "start_time": "2023-09-20T18:19:24.430Z"
      },
      {
        "duration": 15,
        "start_time": "2023-09-20T18:19:24.635Z"
      },
      {
        "duration": 513,
        "start_time": "2023-09-20T18:19:24.652Z"
      },
      {
        "duration": 63,
        "start_time": "2023-09-20T18:19:25.167Z"
      },
      {
        "duration": 93,
        "start_time": "2023-09-20T18:19:25.232Z"
      },
      {
        "duration": 2940,
        "start_time": "2023-09-20T18:20:31.770Z"
      },
      {
        "duration": 0,
        "start_time": "2023-09-20T18:20:34.711Z"
      },
      {
        "duration": 0,
        "start_time": "2023-09-20T18:20:34.712Z"
      },
      {
        "duration": 0,
        "start_time": "2023-09-20T18:20:34.714Z"
      },
      {
        "duration": 0,
        "start_time": "2023-09-20T18:20:34.715Z"
      },
      {
        "duration": 0,
        "start_time": "2023-09-20T18:20:34.716Z"
      },
      {
        "duration": 0,
        "start_time": "2023-09-20T18:20:34.717Z"
      },
      {
        "duration": 0,
        "start_time": "2023-09-20T18:20:34.718Z"
      },
      {
        "duration": 9336,
        "start_time": "2023-09-20T18:20:55.099Z"
      },
      {
        "duration": 8,
        "start_time": "2023-09-20T18:21:04.437Z"
      },
      {
        "duration": 14,
        "start_time": "2023-09-20T18:21:04.446Z"
      },
      {
        "duration": 164,
        "start_time": "2023-09-20T18:21:04.461Z"
      },
      {
        "duration": 20,
        "start_time": "2023-09-20T18:21:04.627Z"
      },
      {
        "duration": 537,
        "start_time": "2023-09-20T18:21:04.649Z"
      },
      {
        "duration": 66,
        "start_time": "2023-09-20T18:21:05.187Z"
      },
      {
        "duration": 90,
        "start_time": "2023-09-20T18:21:05.255Z"
      },
      {
        "duration": 12,
        "start_time": "2023-09-20T18:23:05.436Z"
      },
      {
        "duration": 3139,
        "start_time": "2023-09-20T18:23:10.735Z"
      },
      {
        "duration": 9,
        "start_time": "2023-09-20T18:23:13.876Z"
      },
      {
        "duration": 6,
        "start_time": "2023-09-20T18:23:13.886Z"
      },
      {
        "duration": 186,
        "start_time": "2023-09-20T18:23:13.894Z"
      },
      {
        "duration": 13,
        "start_time": "2023-09-20T18:23:14.083Z"
      },
      {
        "duration": 558,
        "start_time": "2023-09-20T18:23:14.098Z"
      },
      {
        "duration": 60,
        "start_time": "2023-09-20T18:23:14.658Z"
      },
      {
        "duration": 92,
        "start_time": "2023-09-20T18:23:14.720Z"
      },
      {
        "duration": 12,
        "start_time": "2023-09-20T18:24:20.368Z"
      },
      {
        "duration": 15,
        "start_time": "2023-09-20T18:26:01.204Z"
      },
      {
        "duration": 2878,
        "start_time": "2023-09-20T18:26:08.368Z"
      },
      {
        "duration": 9,
        "start_time": "2023-09-20T18:26:11.247Z"
      },
      {
        "duration": 7,
        "start_time": "2023-09-20T18:26:11.257Z"
      },
      {
        "duration": 176,
        "start_time": "2023-09-20T18:26:11.266Z"
      },
      {
        "duration": 8,
        "start_time": "2023-09-20T18:26:11.445Z"
      },
      {
        "duration": 501,
        "start_time": "2023-09-20T18:26:11.455Z"
      },
      {
        "duration": 66,
        "start_time": "2023-09-20T18:26:11.958Z"
      },
      {
        "duration": 119,
        "start_time": "2023-09-20T18:26:12.026Z"
      },
      {
        "duration": 2918,
        "start_time": "2023-09-20T18:27:26.244Z"
      },
      {
        "duration": 8,
        "start_time": "2023-09-20T18:27:29.165Z"
      },
      {
        "duration": 15,
        "start_time": "2023-09-20T18:27:29.175Z"
      },
      {
        "duration": 192,
        "start_time": "2023-09-20T18:27:29.192Z"
      },
      {
        "duration": 9,
        "start_time": "2023-09-20T18:27:29.387Z"
      },
      {
        "duration": 473,
        "start_time": "2023-09-20T18:27:29.399Z"
      },
      {
        "duration": 60,
        "start_time": "2023-09-20T18:27:29.874Z"
      },
      {
        "duration": 82,
        "start_time": "2023-09-20T18:27:29.947Z"
      },
      {
        "duration": 2940,
        "start_time": "2023-09-20T18:29:27.400Z"
      },
      {
        "duration": 10,
        "start_time": "2023-09-20T18:29:30.342Z"
      },
      {
        "duration": 44,
        "start_time": "2023-09-20T18:29:30.353Z"
      },
      {
        "duration": 212,
        "start_time": "2023-09-20T18:29:30.399Z"
      },
      {
        "duration": 10,
        "start_time": "2023-09-20T18:29:30.614Z"
      },
      {
        "duration": 528,
        "start_time": "2023-09-20T18:29:30.626Z"
      },
      {
        "duration": 65,
        "start_time": "2023-09-20T18:29:31.156Z"
      },
      {
        "duration": 122,
        "start_time": "2023-09-20T18:29:31.223Z"
      },
      {
        "duration": 1728,
        "start_time": "2023-09-20T18:30:04.810Z"
      },
      {
        "duration": 0,
        "start_time": "2023-09-20T18:30:06.540Z"
      },
      {
        "duration": 0,
        "start_time": "2023-09-20T18:30:06.541Z"
      },
      {
        "duration": 0,
        "start_time": "2023-09-20T18:30:06.542Z"
      },
      {
        "duration": 0,
        "start_time": "2023-09-20T18:30:06.544Z"
      },
      {
        "duration": 0,
        "start_time": "2023-09-20T18:30:06.545Z"
      },
      {
        "duration": 0,
        "start_time": "2023-09-20T18:30:06.546Z"
      },
      {
        "duration": 0,
        "start_time": "2023-09-20T18:30:06.547Z"
      },
      {
        "duration": 2889,
        "start_time": "2023-09-20T18:30:18.689Z"
      },
      {
        "duration": 8,
        "start_time": "2023-09-20T18:30:21.580Z"
      },
      {
        "duration": 25,
        "start_time": "2023-09-20T18:30:21.589Z"
      },
      {
        "duration": 168,
        "start_time": "2023-09-20T18:30:21.615Z"
      },
      {
        "duration": 9,
        "start_time": "2023-09-20T18:30:21.785Z"
      },
      {
        "duration": 461,
        "start_time": "2023-09-20T18:30:21.795Z"
      },
      {
        "duration": 61,
        "start_time": "2023-09-20T18:30:22.257Z"
      },
      {
        "duration": 92,
        "start_time": "2023-09-20T18:30:22.320Z"
      }
    ],
    "kernelspec": {
      "display_name": "Python 3 (ipykernel)",
      "language": "python",
      "name": "python3"
    },
    "language_info": {
      "codemirror_mode": {
        "name": "ipython",
        "version": 3
      },
      "file_extension": ".py",
      "mimetype": "text/x-python",
      "name": "python",
      "nbconvert_exporter": "python",
      "pygments_lexer": "ipython3",
      "version": "3.9.5"
    },
    "toc": {
      "base_numbering": 1,
      "nav_menu": {},
      "number_sections": true,
      "sideBar": true,
      "skip_h1_title": true,
      "title_cell": "Table of Contents",
      "title_sidebar": "Contents",
      "toc_cell": false,
      "toc_position": {},
      "toc_section_display": true,
      "toc_window_display": false
    },
    "colab": {
      "provenance": []
    }
  },
  "nbformat": 4,
  "nbformat_minor": 5
}
